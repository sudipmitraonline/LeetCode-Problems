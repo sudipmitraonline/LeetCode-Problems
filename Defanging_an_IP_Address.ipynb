{
  "nbformat": 4,
  "nbformat_minor": 0,
  "metadata": {
    "colab": {
      "name": "Defanging an IP Address.ipynb",
      "provenance": [],
      "collapsed_sections": [],
      "authorship_tag": "ABX9TyOBHkr+5LknvOGScewPqHAC",
      "include_colab_link": true
    },
    "kernelspec": {
      "name": "python3",
      "display_name": "Python 3"
    }
  },
  "cells": [
    {
      "cell_type": "markdown",
      "metadata": {
        "id": "view-in-github",
        "colab_type": "text"
      },
      "source": [
        "<a href=\"https://colab.research.google.com/github/sudipmitraonline/LeetCode-Problems/blob/master/Defanging_an_IP_Address.ipynb\" target=\"_parent\"><img src=\"https://colab.research.google.com/assets/colab-badge.svg\" alt=\"Open In Colab\"/></a>"
      ]
    },
    {
      "cell_type": "markdown",
      "metadata": {
        "id": "7GL4vqxUF53p",
        "colab_type": "text"
      },
      "source": [
        "1108. **Defanging an IP Address**\n",
        "\n",
        "Given a valid (IPv4) IP address, return a defanged version of that IP address.\n",
        "\n",
        "A defanged IP address replaces every period \".\" with \"[.]\".\n",
        "\n",
        "\n",
        "**Example 1:**\n",
        "\n",
        "> Input: address = \"1.1.1.1\"\n",
        "\n",
        "> Output: \"1[.]1[.]1[.]1\"\n",
        "\n",
        "\n",
        "**Example 2:**\n",
        "\n",
        "\n",
        "> Input: address = \"255.100.50.0\"\n",
        "\n",
        "> Output: \"255[.]100[.]50[.]0\"\n",
        "\n",
        "\n",
        "\n",
        "\n",
        "\n",
        "\n"
      ]
    },
    {
      "cell_type": "code",
      "metadata": {
        "id": "TIFq_oeMnWWp",
        "colab_type": "code",
        "outputId": "774a9cad-e99f-4e8f-99fd-ddf0429ed2b0",
        "colab": {
          "base_uri": "https://localhost:8080/",
          "height": 50
        }
      },
      "source": [
        "x = input()\n",
        "for i in range(len(x)):\n",
        "  if x[i] == \".\" :\n",
        "    op = x.replace(x[i],\"[.]\")\n",
        "\n",
        "print(op)"
      ],
      "execution_count": 11,
      "outputs": [
        {
          "output_type": "stream",
          "text": [
            "\"45.36.23.4\"\n",
            "\"45[.]36[.]23[.]4\"\n"
          ],
          "name": "stdout"
        }
      ]
    },
    {
      "cell_type": "code",
      "metadata": {
        "id": "P0LmrlstCSe8",
        "colab_type": "code",
        "colab": {
          "base_uri": "https://localhost:8080/",
          "height": 50
        },
        "outputId": "1701051c-717a-47b6-88cd-503ee9cf244a"
      },
      "source": [
        "#Solution with function\n",
        "class Solution(object):\n",
        "    def replace_func(self, address):\n",
        "        x = address\n",
        "        for i in range(len(x)):\n",
        "            if x[i] == \".\" :\n",
        "                op = x.replace(x[i],\"[.]\")\n",
        "        return op\n",
        "#@Author : Sudip Mitra\n",
        "print(Solution.replace_func(\"\",input()))\n",
        "        "
      ],
      "execution_count": 12,
      "outputs": [
        {
          "output_type": "stream",
          "text": [
            "\"12.36.25.75\"\n",
            "\"12[.]36[.]25[.]75\"\n"
          ],
          "name": "stdout"
        }
      ]
    }
  ]
}