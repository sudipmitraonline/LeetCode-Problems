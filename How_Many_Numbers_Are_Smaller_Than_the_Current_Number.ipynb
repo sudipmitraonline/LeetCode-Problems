{
  "nbformat": 4,
  "nbformat_minor": 0,
  "metadata": {
    "colab": {
      "name": "How Many Numbers Are Smaller Than the Current Number.ipynb",
      "provenance": [],
      "authorship_tag": "ABX9TyM7c3BxB2pPoalmqriV4/+C",
      "include_colab_link": true
    },
    "kernelspec": {
      "name": "python3",
      "display_name": "Python 3"
    }
  },
  "cells": [
    {
      "cell_type": "markdown",
      "metadata": {
        "id": "view-in-github",
        "colab_type": "text"
      },
      "source": [
        "<a href=\"https://colab.research.google.com/github/sudipmitraonline/LeetCode-Problems/blob/master/How_Many_Numbers_Are_Smaller_Than_the_Current_Number.ipynb\" target=\"_parent\"><img src=\"https://colab.research.google.com/assets/colab-badge.svg\" alt=\"Open In Colab\"/></a>"
      ]
    },
    {
      "cell_type": "markdown",
      "metadata": {
        "id": "4fLBVncnJiph",
        "colab_type": "text"
      },
      "source": [
        "# 1365. How Many Numbers Are Smaller Than the Current Number\n",
        "\n",
        "**Given the array nums, for each nums[i] find out how many numbers in the array are smaller than it. That is, for each nums[i] you have to count the number of valid j's such that j != i and nums[j] < nums[i].**\n",
        "\n",
        "\n",
        "> **Example 1:**\n",
        "\n",
        "\n",
        "Input: 8 1 2 2 3\n",
        "\n",
        "Output: 4 0 1 1 3\n",
        "\n",
        "> Explanation:\n",
        "\n",
        "For nums[0]=8 there exist four smaller numbers than it (1, 2, 2 and 3). \n",
        "\n",
        "For nums[1]=1 does not exist any smaller number than it.\n",
        "\n",
        "For nums[2]=2 there exist one smaller number than it (1). \n",
        "\n",
        "For nums[3]=2 there exist one smaller number than it (1). \n",
        "\n",
        "For nums[4]=3 there exist three smaller numbers than it (1, 2 and 2).\n",
        "\n",
        "> **Example 2:**\n",
        "\n",
        "Input: nums = 6 5 4 8\n",
        "\n",
        "Output: 2 1 0 3\n",
        "\n",
        "> **Example 2:**\n",
        "\n",
        "Input: nums = 7 7 7 7\n",
        "\n",
        "Output: 0 0 0 0"
      ]
    },
    {
      "cell_type": "code",
      "metadata": {
        "id": "YFion-ycl-zd",
        "colab_type": "code",
        "colab": {
          "base_uri": "https://localhost:8080/",
          "height": 50
        },
        "outputId": "7f84087c-b41a-4960-98a4-fb6c5bd9a1de"
      },
      "source": [
        "#@Author : Sudip Mitra\n",
        "s = tuple(map(int, input().split()))\n",
        "c = list(s)\n",
        "c.sort()\n",
        "for item in s:\n",
        "  print(c.index(item), end = \" \")"
      ],
      "execution_count": 73,
      "outputs": [
        {
          "output_type": "stream",
          "text": [
            "8 1 2 2 3\n",
            "4 0 1 1 3 "
          ],
          "name": "stdout"
        }
      ]
    },
    {
      "cell_type": "code",
      "metadata": {
        "id": "2Y-vRoESzYz0",
        "colab_type": "code",
        "colab": {
          "base_uri": "https://localhost:8080/",
          "height": 50
        },
        "outputId": "4aef5a4d-a466-4c2f-a6b4-f523c0730ccf"
      },
      "source": [
        "class Solution():\n",
        "  def smallerNumbersThanCurrent(self, s):\n",
        "    c = list(s)\n",
        "    c.sort()\n",
        "    for item in s:\n",
        "      print(c.index(item), end = \" \")\n",
        "#@Author : Sudip Mitra    \n",
        "Solution.smallerNumbersThanCurrent(\"\",tuple(map(int, input().split())))"
      ],
      "execution_count": 76,
      "outputs": [
        {
          "output_type": "stream",
          "text": [
            "6 5 4 8\n",
            "2 1 0 3 "
          ],
          "name": "stdout"
        }
      ]
    },
    {
      "cell_type": "code",
      "metadata": {
        "id": "Ac2b_EdUMyyJ",
        "colab_type": "code",
        "colab": {
          "base_uri": "https://localhost:8080/",
          "height": 50
        },
        "outputId": "21cc52c1-c914-4b95-9faf-ecfd20f4dc7a"
      },
      "source": [
        "class Solution(object):\n",
        "  def smallerNumbersThanCurrent(self, s):\n",
        "    a = []\n",
        "    c = list(s)\n",
        "    c.sort()\n",
        "    for item in s:\n",
        "      a.append(c.index(item))\n",
        "    return a\n",
        "#@Author : Sudip Mitra\n",
        "print(Solution.smallerNumbersThanCurrent(\"\",tuple(map(int, input().split()))))"
      ],
      "execution_count": 79,
      "outputs": [
        {
          "output_type": "stream",
          "text": [
            "8 1 2 2 3\n",
            "[4, 0, 1, 1, 3]\n"
          ],
          "name": "stdout"
        }
      ]
    }
  ]
}